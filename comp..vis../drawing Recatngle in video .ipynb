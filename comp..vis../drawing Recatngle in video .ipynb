{
 "cells": [
  {
   "cell_type": "markdown",
   "metadata": {},
   "source": [
    "# Static Rectangle"
   ]
  },
  {
   "cell_type": "code",
   "execution_count": 5,
   "metadata": {},
   "outputs": [
    {
     "name": "stdout",
     "output_type": "stream",
     "text": [
      "<class 'float'>\n"
     ]
    }
   ],
   "source": [
    "import cv2\n",
    "\n",
    "cap=cv2.VideoCapture(0)\n",
    "width=cap.get(cv2.CAP_PROP_FRAME_WIDTH)\n",
    "height=cap.get(cv2.CAP_PROP_FRAME_HEIGHT)\n",
    "print(type(width))\n",
    "#top left corner\n",
    "x=width // 2\n",
    "y=height//2\n",
    "x=int(x)\n",
    "y=int(y)\n",
    "#width and Height of Rectangle \n",
    "w=width//4\n",
    "h=height//4\n",
    "w=int(w)\n",
    "h=int(h)\n",
    "#Bottom Right x+w,y+h\n",
    "while True:\n",
    "    ret,frame =cap.read()\n",
    "    cv2.rectangle(frame,(x,y),(x+w,y+h),(0,0,255),1)\n",
    "    cv2.imshow('frame',frame)\n",
    "    \n",
    "    if cv2.waitKey(1) & 0xFF==ord('q'):\n",
    "        break\n",
    "cap.release()\n",
    "cv2.destroyAllWindows()"
   ]
  },
  {
   "cell_type": "markdown",
   "metadata": {},
   "source": [
    "# Dynamic Rectangle "
   ]
  },
  {
   "cell_type": "code",
   "execution_count": 8,
   "metadata": {},
   "outputs": [],
   "source": [
    "import cv2\n",
    "\n",
    " ## callback function Rectangle \n",
    "def draw_rectangle(event,x,y,flags,param):\n",
    "    \n",
    "    global pt1,pt2,topLeft_clicked,botRight_clicked\n",
    "    \n",
    "    if event ==cv2.EVENT_LBUTTONDOWN:\n",
    "        \n",
    "        if topLeft_clicked==True and botRight_clicked==True:\n",
    "            pt1=(0,0)\n",
    "            pt2=(0,0)\n",
    "            topLeft_clicked=False\n",
    "            botRight_clicked=False\n",
    "            \n",
    "        if topLeft_clicked==False:\n",
    "            pt1=(x,y)\n",
    "            topLeft_clicked=True\n",
    "    \n",
    "        elif botRight_clicked==False:\n",
    "            pt2=(x,y)\n",
    "            botRight_clicked=True\n",
    "\n",
    "#global Variables\n",
    "pt1=(0,0)\n",
    "pt2=(0,0)\n",
    "topLeft_clicked=False\n",
    "botRight_clicked=False\n",
    "#connect to callback \n",
    "cap=cv2.VideoCapture(0)\n",
    "\n",
    "cv2.namedWindow('test')\n",
    "cv2.setMouseCallback('test',draw_rectangle)\n",
    "\n",
    "\n",
    "while True:\n",
    "    ret,frame =cap.read()\n",
    "    #drawing on the based of the global variables \n",
    "    if topLeft_clicked:\n",
    "        cv2.circle(frame,center=pt1,radius=5,color=(0,0,255),thickness=-1)\n",
    "    if topLeft_clicked and botRight_clicked:\n",
    "        cv2.rectangle(frame,pt1,pt2,(0,0,255),3)\n",
    "    cv2.imshow('test',frame)\n",
    "    \n",
    "    if cv2.waitKey(1) & 0xFF==ord('q'):\n",
    "        break\n",
    "        \n",
    "cap.release()\n",
    "cv2.destroyAllWindows()"
   ]
  },
  {
   "cell_type": "code",
   "execution_count": null,
   "metadata": {},
   "outputs": [],
   "source": []
  }
 ],
 "metadata": {
  "kernelspec": {
   "display_name": "Python 3",
   "language": "python",
   "name": "python3"
  },
  "language_info": {
   "codemirror_mode": {
    "name": "ipython",
    "version": 3
   },
   "file_extension": ".py",
   "mimetype": "text/x-python",
   "name": "python",
   "nbconvert_exporter": "python",
   "pygments_lexer": "ipython3",
   "version": "3.7.5"
  }
 },
 "nbformat": 4,
 "nbformat_minor": 2
}
